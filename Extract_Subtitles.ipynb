{
  "nbformat": 4,
  "nbformat_minor": 0,
  "metadata": {
    "colab": {
      "provenance": []
    },
    "kernelspec": {
      "name": "python3",
      "display_name": "Python 3"
    },
    "language_info": {
      "name": "python"
    }
  },
  "cells": [
    {
      "cell_type": "code",
      "source": [
        "!pip install youtube_transcript_api"
      ],
      "metadata": {
        "colab": {
          "base_uri": "https://localhost:8080/"
        },
        "id": "p04DlF-ktV_r",
        "outputId": "9c75f2e9-7934-4205-c1e4-a4d34486059c"
      },
      "execution_count": null,
      "outputs": [
        {
          "output_type": "stream",
          "name": "stdout",
          "text": [
            "Looking in indexes: https://pypi.org/simple, https://us-python.pkg.dev/colab-wheels/public/simple/\n",
            "Collecting youtube_transcript_api\n",
            "  Downloading youtube_transcript_api-0.5.0-py3-none-any.whl (23 kB)\n",
            "Requirement already satisfied: requests in /usr/local/lib/python3.9/dist-packages (from youtube_transcript_api) (2.25.1)\n",
            "Requirement already satisfied: urllib3<1.27,>=1.21.1 in /usr/local/lib/python3.9/dist-packages (from requests->youtube_transcript_api) (1.26.14)\n",
            "Requirement already satisfied: chardet<5,>=3.0.2 in /usr/local/lib/python3.9/dist-packages (from requests->youtube_transcript_api) (4.0.0)\n",
            "Requirement already satisfied: idna<3,>=2.5 in /usr/local/lib/python3.9/dist-packages (from requests->youtube_transcript_api) (2.10)\n",
            "Requirement already satisfied: certifi>=2017.4.17 in /usr/local/lib/python3.9/dist-packages (from requests->youtube_transcript_api) (2022.12.7)\n",
            "Installing collected packages: youtube_transcript_api\n",
            "Successfully installed youtube_transcript_api-0.5.0\n"
          ]
        }
      ]
    },
    {
      "cell_type": "code",
      "source": [
        "from youtube_transcript_api import YouTubeTranscriptApi"
      ],
      "metadata": {
        "id": "beLk5Lj8uXvO"
      },
      "execution_count": null,
      "outputs": []
    },
    {
      "cell_type": "code",
      "source": [
        "import re\n",
        "\n",
        "def get_video_id(url):\n",
        "    \"\"\"\n",
        "    Extracts the YouTube video ID from a URL.\n",
        "    \"\"\"\n",
        "    # Define a regular expression pattern to match the YouTube video ID in the URL\n",
        "    pattern = r\"(?<=v=)[\\w-]+|(?<=be/)[\\w-]+\"\n",
        "    # Use the re module to search for the pattern in the URL\n",
        "    match = re.search(pattern, url)\n",
        "    # If a match is found, return the video ID\n",
        "    if match:\n",
        "        return match.group()\n",
        "    # If no match is found, return None\n",
        "    else:\n",
        "        return None"
      ],
      "metadata": {
        "id": "OAYOG7xguJuI"
      },
      "execution_count": null,
      "outputs": []
    },
    {
      "cell_type": "code",
      "source": [
        "urls = [\"https://www.youtube.com/watch?v=RqEluiScncI&list=PLdXle58VZKF6pmUG5jpzpzCY_Sf8-5fly\",\n",
        "        \"https://www.youtube.com/watch?v=GfBVftVnAE8&list=PL4qTXMCCZ6Nijct0i4JdgVxU4OT086lHm&index=11\",\n",
        "        \"https://youtu.be/JYx47ew1_zM?list=PL4qTXMCCZ6Njlp-7uC4G2cf5D2shS2o-e\",\n",
        "        \"https://youtu.be/WzL00PyBAD0?list=PL4qTXMCCZ6Njlp-7uC4G2cf5D2shS2o-e\",\n",
        "        \"https://youtu.be/Kz2D1rNaw5Q?list=PL4qTXMCCZ6Njlp-7uC4G2cf5D2shS2o-e\",\n",
        "        \"https://youtu.be/0cGAuZ2Fb80?list=PL4qTXMCCZ6Njlp-7uC4G2cf5D2shS2o-e\",\n",
        "        \"https://youtu.be/OvECCWWBgT8?list=PL4qTXMCCZ6Njlp-7uC4G2cf5D2shS2o-e\",\n",
        "        \"https://youtu.be/AmgEytYLH7A?list=PL4qTXMCCZ6Njlp-7uC4G2cf5D2shS2o-e\",\n",
        "        \"https://youtu.be/7jfQqEAeCqY?list=PL4qTXMCCZ6Njlp-7uC4G2cf5D2shS2o-e\",\n",
        "        \"https://youtu.be/weiCgE160s4?list=PL4qTXMCCZ6Njlp-7uC4G2cf5D2shS2o-e\",\n",
        "        \"https://youtu.be/mHWtOdcsEVU?list=PL4qTXMCCZ6Njlp-7uC4G2cf5D2shS2o-e\",\n",
        "        \"https://youtu.be/7BJIYG4Ed6A?list=PL4qTXMCCZ6Njlp-7uC4G2cf5D2shS2o-e\",\n",
        "        \"https://youtu.be/cFUpcD8CsSU?list=PL4qTXMCCZ6Njlp-7uC4G2cf5D2shS2o-e\",\n",
        "        \"https://youtu.be/YcDR7lSaIps?list=PL4qTXMCCZ6Njlp-7uC4G2cf5D2shS2o-e\",\n",
        "        \"https://youtu.be/9B4XZ8lKhvs?list=PL4qTXMCCZ6Njlp-7uC4G2cf5D2shS2o-e\",\n",
        "        \"https://youtu.be/OF2R1iZQqOY?list=PL4qTXMCCZ6Njlp-7uC4G2cf5D2shS2o-e\",\n",
        "        \"https://youtu.be/stZaXMh0ZBs?list=PL4qTXMCCZ6Njlp-7uC4G2cf5D2shS2o-e\",\n",
        "        \"https://youtu.be/OeoM16Mz7Lo?list=PL4qTXMCCZ6Njlp-7uC4G2cf5D2shS2o-e\",\n",
        "        \"https://youtu.be/LFsdU3orNYQ?list=PL4qTXMCCZ6Njlp-7uC4G2cf5D2shS2o-e\",\n",
        "        \"https://youtu.be/KdxxMDVRzhE?list=PL4qTXMCCZ6Njlp-7uC4G2cf5D2shS2o-e\"]"
      ],
      "metadata": {
        "id": "_Of-VnGNHBIW"
      },
      "execution_count": null,
      "outputs": []
    },
    {
      "cell_type": "code",
      "source": [
        "import math\n",
        "def extract_language_pairs(eng_subs,fr_subs):\n",
        "    # Create an empty list to store language pairs\n",
        "  language_pairs = []\n",
        "\n",
        "  # Loop through each subtitle in the English subtitle file\n",
        "  for i in range(len(eng_subs)):\n",
        "      # Get the start and end time of the English subtitle\n",
        "      start_time = math.floor(eng_subs[i]['start'])\n",
        "      end_time = math.floor(eng_subs[i]['start']+eng_subs[i]['duration'])\n",
        "\n",
        "      # Search for the corresponding French subtitle that overlaps with the English subtitle\n",
        "      for j in range(len(fr_subs)):\n",
        "          if math.floor(fr_subs[j]['start']) == start_time and math.floor((fr_subs[j]['start']+fr_subs[j]['duration'])) == end_time:\n",
        "              # If the French subtitle overlaps with the English subtitle, add the language pair to the list\n",
        "              language_pairs.append((eng_subs[i]['text'], fr_subs[j]['text']))\n",
        "              break\n",
        "\n",
        "  return language_pairs"
      ],
      "metadata": {
        "id": "aXl2HTyv7xHb"
      },
      "execution_count": null,
      "outputs": []
    },
    {
      "cell_type": "code",
      "source": [
        "data_ls=[]\n",
        "for url in urls:\n",
        "  video_id = get_video_id(url)\n",
        "  en_sub = YouTubeTranscriptApi.get_transcript(video_id, languages  = ['en'])\n",
        "  fr_sub = YouTubeTranscriptApi.get_transcript(video_id, languages = ['fr'])\n",
        "  data_ls.append(extract_language_pairs(en_sub,fr_sub))"
      ],
      "metadata": {
        "id": "vxXMvS-YHOq3"
      },
      "execution_count": null,
      "outputs": []
    },
    {
      "cell_type": "code",
      "source": [
        "li=[(len(i)) for i in data_ls]\n",
        "print(li)"
      ],
      "metadata": {
        "colab": {
          "base_uri": "https://localhost:8080/"
        },
        "id": "r9oxAanRJDN5",
        "outputId": "8eee8e7d-7a3f-43f7-aef5-e8c12b4ce4be"
      },
      "execution_count": null,
      "outputs": [
        {
          "output_type": "stream",
          "name": "stdout",
          "text": [
            "[1501, 1018, 323, 330, 219, 1572, 754, 260, 2026, 575, 180, 1239, 814, 671, 575, 856, 163, 426, 1167, 835]\n"
          ]
        }
      ]
    },
    {
      "cell_type": "code",
      "source": [
        "sum(li)"
      ],
      "metadata": {
        "colab": {
          "base_uri": "https://localhost:8080/"
        },
        "id": "wzl7RtlFZHE-",
        "outputId": "54c115a7-f1c3-47b3-8087-351b71b10e55"
      },
      "execution_count": null,
      "outputs": [
        {
          "output_type": "execute_result",
          "data": {
            "text/plain": [
              "15504"
            ]
          },
          "metadata": {},
          "execution_count": 11
        }
      ]
    },
    {
      "cell_type": "markdown",
      "source": [
        "# **TEST CODE**"
      ],
      "metadata": {
        "id": "abnQRa9KicX2"
      }
    },
    {
      "cell_type": "code",
      "source": [
        "url='https://youtu.be/KdxxMDVRzhE?list=PL4qTXMCCZ6Njlp-7uC4G2cf5D2shS2o-e'\n",
        "vid = get_video_id(url)\n",
        "en_sub = YouTubeTranscriptApi.get_transcript(vid, languages  = ['en'])\n",
        "fr_sub = YouTubeTranscriptApi.get_transcript(vid, languages = ['fr'])\n",
        "data = extract_language_pairs(en_sub,fr_sub)\n",
        "print(len(data))"
      ],
      "metadata": {
        "colab": {
          "base_uri": "https://localhost:8080/"
        },
        "id": "0tXNK9VMASFj",
        "outputId": "9f3bc2a1-e018-4a02-d44d-8815027504ac"
      },
      "execution_count": null,
      "outputs": [
        {
          "output_type": "stream",
          "name": "stdout",
          "text": [
            "835\n"
          ]
        }
      ]
    },
    {
      "cell_type": "code",
      "source": [
        "data[-21]"
      ],
      "metadata": {
        "colab": {
          "base_uri": "https://localhost:8080/"
        },
        "id": "AOYwF_UEIiXi",
        "outputId": "f44fbf08-cb93-48ff-d0c0-39d42f725b02"
      },
      "execution_count": null,
      "outputs": [
        {
          "output_type": "execute_result",
          "data": {
            "text/plain": [
              "('Gentlemen! The boards\\nof the Bank of England!',\n",
              " \"Messieurs ! Les planches\\nde la Banque d'Angleterre !\")"
            ]
          },
          "metadata": {},
          "execution_count": 262
        }
      ]
    },
    {
      "cell_type": "markdown",
      "source": [
        "# **SAVING AS TXT FILE**"
      ],
      "metadata": {
        "id": "0WSvcVjrinTM"
      }
    },
    {
      "cell_type": "code",
      "source": [
        "en, fr = [en for tup in data_ls for en,fr in tup], [fr for tup in data_ls for en,fr in tup] \n"
      ],
      "metadata": {
        "id": "-Z6P2e7eixLZ"
      },
      "execution_count": null,
      "outputs": []
    },
    {
      "cell_type": "markdown",
      "source": [
        "# Visualizing Data"
      ],
      "metadata": {
        "id": "O37bvNqCkPfO"
      }
    },
    {
      "cell_type": "code",
      "source": [
        "for i in range(100):\n",
        "  print(en[i])"
      ],
      "metadata": {
        "colab": {
          "base_uri": "https://localhost:8080/"
        },
        "id": "GxTrLt7JSvS1",
        "outputId": "9ef72ef4-5f5a-4db8-c4bc-344bde05a172"
      },
      "execution_count": null,
      "outputs": [
        {
          "output_type": "stream",
          "name": "stdout",
          "text": [
            "The events and characters described in\n",
            "this film are strictly authentic...\n",
            "...and shocked England,\n",
            "in the mid 60's.\n",
            "To achieve greater fidelity\n",
            "history, the authors of the film...\n",
            "...they wanted the protagonists to express themselves\n",
            "in the various languages of each country of diffusion.\n",
            "Advertise your product or brand here\n",
            "contact us www.SubtitleDB.org today\n",
            "LOVABLE IDIOT\n",
            "There it is!\n",
            "He only ordered a roast beef and\n",
            "a yorkshire pudding\n",
            "Rare roast beef?\n",
            "Are you kidding? Like shoe sole.\n",
            "How long have you been sitting at the table?\n",
            "-It's a good ten minutes.\n",
            "Eleonore, you are an angel.\n",
            "And you are a bit of a fool, Mr. Compton!\n",
            "Have you decided to speak today\n",
            "with her: yes or no?\n",
            "-I do not can.\n",
            "-And why not?\n",
            "Don't you know that she even looks French?\n",
            "Look at her!\n",
            "And good?\n",
            "Oh, if there is no room!\n",
            "Poor England!\n",
            "Roasted suckling pig and sauce\n",
            "of Apple! Come on!\n",
            "Thank you, young man!\n",
            "Is for me?\n",
            "The bill, miss!\n",
            "- That man's account, please.\n",
            "-I do not can. I only have two hands.\n",
            "-Your count Sir!\n",
            "-Here!\n",
            "Oh thanks!\n",
            "How kind you are!\n",
            "But, madam...!\n",
            "I'm sorry, Mr. Compton, but you're\n",
            "ma'am has arrived before you.\n",
            "Miss, oh, miss!\n",
            "If I dared...if only I had\n",
            "the courage to dare!\n",
            "I love you, miss, and I have no doubt that\n",
            "you feel the same way about me.\n",
            "Oh, miss! Don't you feel that passion\n",
            "burning around him?\n",
            "Smells like burnt!\n",
            "Eleanore, close the door\n",
            "from the kitchen, please!\n",
            "Archibald, finish playing,\n",
            "because we're leaving!\n",
            "My shoe!\n",
            "Shut!\n",
            "Archibald, please\n",
            "return that shoe!\n",
            "Thanks.\n",
            "Archibald! Archibald,\n",
            "my poor little dog!\n",
            "Oh, you're here, little one!\n",
            "Mr. Principal!\n",
            "Mr. Compton, are you a\n",
            "model partner.\n",
            "I'm happy, happy and\n",
            "Flattered to share that opinion.\n",
            "A perfect collaborator!\n",
            "When will you do us the honor of\n",
            "ever be in your office?\n",
            "I understand you, sir.\n",
            "What time is it, Mr. Compton?\n",
            "twelve midnight,\n",
            "I say noon.\n",
            "My watch must have stopped.\n",
            "I do not have any doubt\n",
            "about it, Mr. Compton.\n",
            "And it's been six months\n",
            "He hasn't set it on time!\n",
            "It's exactly 2:13 p.m.\n",
            "So if that's so, it seems\n",
            "be that I have arrived late.\n",
            "I am going to astonish you by telling you, Mr. Compton, that\n",
            "We found that it has a lot of personality.\n",
            "What does not prevent us from having\n",
            "decided to dispense with their services.\n",
            "-Thank you.\n",
            "-You are welcome sir.\n",
            "Compton!\n",
            "Before you leave us, I would like\n",
            "present to your successor in this office:\n",
            "...my nephew, James WC Tapple\n",
            "Come closer!\n",
            "I'm glad to meet you.\n",
            "What time do you have, James?\n",
            "-It's 2:15 p.m.\n",
            "-Y?\n",
            "And 30 seconds.\n",
            "Dear Mr. Compton, England is a\n",
            "island that has nothing to sell,\n",
            "...other than his intelligence, his industriousness\n",
            "and his punctuality.\n",
            "James possesses all those qualities,\n",
            "...in which rests the future\n",
            "from United Kingdom.\n",
            "Then,\n",
            "...may God protect the Queen!\n",
            "So we have those!\n",
            "All right, goodbye to Harry Compton...\n",
            "...and welcome be Nicolas Miloukine!\n",
            "-Mr. Compton!\n",
            "-No this.\n",
            "You can now apply for my Russian visa.\n",
            "Are they going to send you there?\n",
            "-As usual.\n",
            "And do you know who will occupy\n",
            "my job?\n",
            "-The boss's nephew, as usual.\n",
            "-How did you know?\n",
            "Because I know the customs\n",
            "capitalists.\n",
            "And even if I didn't know them, they would have\n",
            "finished asking for his head.\n",
            "You are right. Serge Miloukine's son\n",
            "he has nothing to do on this island.\n",
            "-Leave!\n",
            "-Listen to me!\n",
            "You have misunderstood me.\n",
            "Soviet Russia is full of people\n",
            "more competent than you...\n",
            "...and also much more useful than\n",
            "You can never become.\n",
            "Hadn't he noticed?\n",
            "-And that?\n",
            "-And that!\n",
            "It was not in search of freedom so\n",
            "that his father came to England,\n",
            "-...but in search of love.\n",
            "-Oh, love!\n",
            "The love that triumphs beyond\n",
            "of any hope.\n",
            "And this is what he produced!\n",
            "You are English, Harry Compton.\n",
            "Instead I: do you see me like this,\n",
            "head cover?\n",
            "But now look at you!\n",
            "Nicolas Miloukine is dead;\n",
            "...as dead as his father.\n",
            "You are not going to Russia!\n",
            "-Yes.\n",
            "-No, he is not going to go to Russia.\n",
            "But, I have plans for you:\n",
            "...big plans!\n",
            "No, not really.\n",
            "I don't like any of that.\n"
          ]
        }
      ]
    },
    {
      "cell_type": "code",
      "source": [
        "processed_en = [' '.join(s.split('\\n')) if '\\n' in s else s for s in en]\n",
        "processed_fr = [' '.join(s.split('\\n')) if '\\n' in s else s for s in fr]"
      ],
      "metadata": {
        "id": "IIIGW756WLai"
      },
      "execution_count": null,
      "outputs": []
    },
    {
      "cell_type": "code",
      "source": [
        "processed_en.pop()\n",
        "processed_fr.pop()\n",
        "len(processed_en),len(processed_fr)"
      ],
      "metadata": {
        "colab": {
          "base_uri": "https://localhost:8080/"
        },
        "id": "qHDsl9sRYOQO",
        "outputId": "de6bbb36-0f61-487a-bf59-d52ed9384e47"
      },
      "execution_count": null,
      "outputs": [
        {
          "output_type": "execute_result",
          "data": {
            "text/plain": [
              "(15503, 15503)"
            ]
          },
          "metadata": {},
          "execution_count": 43
        }
      ]
    },
    {
      "cell_type": "code",
      "source": [
        "with open('en_sub.txt','w') as f:\n",
        "  for line in processed_en:\n",
        "    f.write('%s\\n'%line)\n"
      ],
      "metadata": {
        "id": "NK6knIREVaCO"
      },
      "execution_count": null,
      "outputs": []
    },
    {
      "cell_type": "code",
      "source": [
        "from prettytable import PrettyTable\n",
        "# Create a table with column headers\n",
        "table = PrettyTable(['English', 'French'])\n",
        "\n",
        "data =zip(en,fr)\n",
        "# Add rows to the table\n",
        "for row in data:\n",
        "    table.add_row(row)\n",
        "\n",
        "table_string = str(table)\n",
        "table_rows = table_string.split('\\n')[:10]\n",
        "\n",
        "# Print the first ten rows of the table\n",
        "print('\\n'.join(table_rows))\n"
      ],
      "metadata": {
        "colab": {
          "base_uri": "https://localhost:8080/"
        },
        "id": "JJOmjts3jwoD",
        "outputId": "983309ff-62b8-4d5e-9057-e6fb7b013522"
      },
      "execution_count": null,
      "outputs": [
        {
          "output_type": "stream",
          "name": "stdout",
          "text": [
            "+----------------------------------------------------------------------------------------------+-----------------------------------------------------------------------------------------------------------+\n",
            "|                                           English                                            |                                                   French                                                  |\n",
            "+----------------------------------------------------------------------------------------------+-----------------------------------------------------------------------------------------------------------+\n",
            "|                            The events and characters described in                            |                               Les événements et les personnages décrits dans                              |\n",
            "|                             this film are strictly authentic...                              |                                  ce film sont strictement authentiques...                                 |\n",
            "|                                   ...and shocked England,                                    |                                        ...et a choqué l'Angleterre,                                       |\n",
            "|                                       in the mid 60's.                                       |                                          au milieu des années 60.                                         |\n",
            "|                                 To achieve greater fidelity                                  |                                  Pour atteindre une plus grande fidélité                                  |\n",
            "|                             history, the authors of the film...                              |                                     l'histoire, les auteurs du film...                                    |\n",
            "|                    ...they wanted the protagonists to express themselves                     |                             ...ils voulaient que les protagonistes s'expriment                            |\n"
          ]
        }
      ]
    },
    {
      "cell_type": "code",
      "source": [
        "with open('en_sub.txt', 'w') as file:\n",
        "    # Write the list to the file\n",
        "    for item in processed_en:\n",
        "        file.write(\"%s\\n\" % item)\n",
        "\n",
        "file.close()"
      ],
      "metadata": {
        "id": "LNExOcmNiMs5"
      },
      "execution_count": null,
      "outputs": []
    },
    {
      "cell_type": "code",
      "source": [
        "with open('fr_sub.txt', 'w') as file:\n",
        "    # Write the list to the file\n",
        "    for item in processed_fr:\n",
        "        file.write(\"%s\\n\" % item)\n",
        "file.close()"
      ],
      "metadata": {
        "id": "WP6e5i09l86u"
      },
      "execution_count": null,
      "outputs": []
    }
  ]
}